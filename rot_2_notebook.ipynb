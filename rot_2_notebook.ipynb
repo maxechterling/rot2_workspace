{
 "cells": [
  {
   "cell_type": "code",
   "execution_count": 1,
   "metadata": {
    "collapsed": true
   },
   "outputs": [],
   "source": [
    "import sys\n",
    "import pandas as pd\n",
    "import numpy as np\n",
    "%matplotlib inline\n",
    "import matplotlib.pyplot as plt"
   ]
  },
  {
   "cell_type": "markdown",
   "metadata": {},
   "source": [
    "## Get Data from mySQL database\n",
    "### synapse - synapsecombined\n",
    "contains the pre and post synapses, the type, and the synapse contin number\n",
    "### obj - object\n",
    "contains the x, y, and image_num of each section in the contin"
   ]
  },
  {
   "cell_type": "code",
   "execution_count": 2,
   "metadata": {
    "collapsed": true
   },
   "outputs": [],
   "source": [
    "def read_in_data( field, ind_lst ):\n",
    "\n",
    "    skip = True\n",
    "    out = []\n",
    "    with open( 'thumb/Emmons_Data/N2U.sql' ) as f:\n",
    "        for line in f:\n",
    "            if line.startswith('INSERT INTO'):\n",
    "                \n",
    "                if field in line.split()[2]:\n",
    "                    skip = False\n",
    "                else:\n",
    "                    skip = True\n",
    "            elif skip == False:\n",
    "                if line == '\\n':\n",
    "                    skip = True\n",
    "                else:\n",
    "                    ext = []\n",
    "                    for i in ind_lst:\n",
    "                        ext.append( line.rstrip('\\r\\n').split(', ')[i].lstrip(' \\'')\\\n",
    "                            .rstrip('\\'').rstrip(',').rstrip(';').rstrip(')')\\\n",
    "                            .lstrip('(') )\n",
    "                    out.append( ext )\n",
    "    return out"
   ]
  },
  {
   "cell_type": "code",
   "execution_count": 3,
   "metadata": {},
   "outputs": [
    {
     "name": "stdout",
     "output_type": "stream",
     "text": [
      "         pre            post        type contin\n",
      "0       ASJL       PVQL,ASKL    chemical   5641\n",
      "1       AIAL  AIML,ASJL,ASKL    chemical   5642\n",
      "2        AVM            PVCL    chemical   9582\n",
      "3        AVM  PVCL,AVBL,PVNL    chemical   9583\n",
      "4       ASHR       ADAR,AIAR    chemical    369\n",
      "5       RIBR            AIZR    chemical    370\n",
      "6       AIZL      RIAL,SMBDL    chemical    371\n",
      "7       AIZL       AIBR,AVER    chemical    372\n",
      "8       HSNR       RIML,ASHL    chemical    373\n",
      "9       AWAL       AFDL,ASEL    chemical    374\n",
      "10       AVM       PVCL,AVBL    chemical    375\n",
      "11      PVNL       AVJL,BDUR    chemical    377\n",
      "12      RIML       AIBR,AVER    chemical    379\n",
      "13      ASEL            AIYL    chemical    380\n",
      "14      AIYL       RIAL,RIBL    chemical    381\n",
      "15      ADFL       RIAL,AWBL    chemical    382\n",
      "16      SDQL             RIS    chemical    383\n",
      "17      SDQR       AVAL,AIBL    chemical    384\n",
      "18      AIYR  RIAR,AIZR,RIBR    chemical    385\n",
      "19      AWAR  AIYR,AIZR,ADFR    chemical    387\n",
      "20      ASER            AIYR    chemical    388\n",
      "21      ASER       AIBR,AIYR    chemical    389\n",
      "22      PVPR       PVCR,AVBR    chemical    390\n",
      "23      AIYR  RIAR,AIZR,RIBR    chemical    391\n",
      "24      AIZR            RIAR    chemical    392\n",
      "25      SDQL   RIS,AIBR,AVAR    chemical    393\n",
      "26      AIBR       RIML,VB01    chemical    394\n",
      "27      VB01       AIBR,RIML    chemical    395\n",
      "28      PVCR  RID,SIBVL,AVBR    chemical   9747\n",
      "29      ASGL       AIAL,AIBL    chemical    397\n",
      "...      ...             ...         ...    ...\n",
      "7044    RMFL            RIML  electrical   9612\n",
      "7045    SDQR            RIVR  electrical   9613\n",
      "7046    SDQR            RIVL  electrical   9614\n",
      "7047     RID            AVBR  electrical   9615\n",
      "7048    RIGL            BAGL  electrical   9616\n",
      "7049    BAGR            AVEL  electrical   9617\n",
      "7050    PVQR            ASKR  electrical   9667\n",
      "7051    ASKR             ALA  electrical   9668\n",
      "7052    ASKR            ADLR  electrical   9669\n",
      "7053   SMDVL           SMDDR  electrical   9671\n",
      "7054    FLPR            FLPL  electrical   9674\n",
      "7055    VA03            SABD  electrical   9675\n",
      "7056    VA02            AVAL  electrical   9676\n",
      "7057     DVC            AIBR  electrical   9680\n",
      "7058  vBWML1            GLRL  electrical   9690\n",
      "7059  dBWML1           GLRDL  electrical   9691\n",
      "7060  dBWML1           GLRDL  electrical   9692\n",
      "7061  dBWMR1           GLRDR  electrical   9693\n",
      "7062    RMDL            IL2L  electrical   9694\n",
      "7063  dBWML2           GLRDL  electrical   9695\n",
      "7064  dBWML2           GLRDL  electrical   9696\n",
      "7065  dBWML2           GLRDL  electrical   9697\n",
      "7066  dBWML2           GLRDL  electrical   9698\n",
      "7067  dBWML1           GLRDL  electrical   9699\n",
      "7068  dBWMR4            GLRR  electrical   9709\n",
      "7069    RIVL            AIBL  electrical   9734\n",
      "7070    ASIR            ASIL  electrical   9809\n",
      "7071    RICR            AVKL  electrical   9810\n",
      "7072   SIBVL            RIBL  electrical   9829\n",
      "7073   SMBVL           SIBDL  electrical   9838\n",
      "\n",
      "[7074 rows x 4 columns]\n"
     ]
    }
   ],
   "source": [
    "synapses = pd.DataFrame( read_in_data( 'synapsecombined', [1,2,3,19] ), columns=['pre', 'post', 'type', 'contin'] )\n",
    "print synapses"
   ]
  },
  {
   "cell_type": "code",
   "execution_count": 4,
   "metadata": {},
   "outputs": [
    {
     "name": "stdout",
     "output_type": "stream",
     "text": [
      "           x     y   img_num contin\n",
      "0        776  2080  N2UNR176      1\n",
      "1        785  2035  N2UNR177      1\n",
      "2        798  1980  N2UNR178      1\n",
      "3        826  1934  N2UNR179      1\n",
      "4        844  1912  N2UNR180      1\n",
      "5        885  1882  N2UNR181      1\n",
      "6        901  1851  N2UNR182      1\n",
      "7        915  1799  N2UNR183      1\n",
      "8        765  2121  N2UNR175      1\n",
      "9        750  2178  N2UNR174      1\n",
      "10       767  2228  N2UNR173      1\n",
      "11      3528  5540  N2UNR183    222\n",
      "12      3542  5530  N2UNR182    222\n",
      "13      3542  5530  N2UNR181    222\n",
      "14      3571  5529  N2UNR180    222\n",
      "15      3597  5515  N2UNR179    222\n",
      "16      3633  5511  N2UNR178    222\n",
      "17      3668  5501  N2UNR177    222\n",
      "18      3696  5498  N2UNR176    222\n",
      "19      3714  5475  N2UNR175    222\n",
      "20      3739  5457  N2UNR174    222\n",
      "21      3752  5433  N2UNR173    222\n",
      "22      3283  5506  N2UNR183      3\n",
      "23      3289  5497  N2UNR182      3\n",
      "24      3297  5489  N2UNR181      3\n",
      "25      3332  5477  N2UNR180      3\n",
      "26      3370  5470  N2UNR179      3\n",
      "27      3404  5452  N2UNR178      3\n",
      "28      3438  5432  N2UNR177      3\n",
      "29      3469  5406  N2UNR176      3\n",
      "...      ...   ...       ...    ...\n",
      "236118  3554  6014  N2UVC224   6370\n",
      "236119  3572  6025  N2UVC225   6370\n",
      "236120  3554  6008  N2UVC226   6370\n",
      "236121  3558  6011  N2UVC227   6370\n",
      "236122  3558  6013  N2UVC228   6370\n",
      "236123  3467  6058  N2UVC228      0\n",
      "236124  3793  6847  N2UVC285      0\n",
      "236125  3661  6598  N2UVC289      0\n",
      "236126  3317  6140  N2UVC321      0\n",
      "236127  3675  6179  N2UVC328      0\n",
      "236128  3191  5902  N2UVC331      0\n",
      "236129  3377  6351  N2UVC339      0\n",
      "236130  3328  6035  N2UVC353      0\n",
      "236131  3281  6062  N2UVC352      0\n",
      "236132  3304  6064  N2UVC354      0\n",
      "236133  3295  6080  N2UVC355      0\n",
      "236134  3299  6075  N2UVC356      0\n",
      "236135  3283  6077  N2UVC357      0\n",
      "236136  3327  6220  N2UVC355      0\n",
      "236137  3610  6140  N2UVC354      0\n",
      "236138  3402  6215  N2UVC354      0\n",
      "236139  3666  6110  N2UVC451   6562\n",
      "236140  3589  6094  N2UVC451      0\n",
      "236141  3641  6059  N2UVC451      0\n",
      "236142  3726  5983  N2UVC453      0\n",
      "236143  4075  6055  N2UVC593      0\n",
      "236144  3775  6142  N2UVC593      0\n",
      "236145  5042  6229  N2UVC689   9888\n",
      "236146  4535  6314  N2UVC689      0\n",
      "236147  4538  6308  N2UVC689      0\n",
      "\n",
      "[236148 rows x 4 columns]\n"
     ]
    }
   ],
   "source": [
    "obj = pd.DataFrame( read_in_data( 'object', [1,2,4,5] ), columns=['x', 'y', 'img_num', 'contin'] )\n",
    "print obj"
   ]
  },
  {
   "cell_type": "code",
   "execution_count": 5,
   "metadata": {},
   "outputs": [
    {
     "name": "stdout",
     "output_type": "stream",
     "text": [
      "     contin section1 section2\n",
      "0       294      164      171\n",
      "1       315      150      153\n",
      "2       295      164      172\n",
      "3       314      150      154\n",
      "4        99      173      177\n",
      "5       134      173      179\n",
      "6       292      164      166\n",
      "7       316      150      154\n",
      "8       302      164      169\n",
      "9       319      140      145\n",
      "10     2206      131      133\n",
      "11     4606      121      127\n",
      "12       93        1      185\n",
      "13      332      140      142\n",
      "14     8538        0        0\n",
      "15     5725      411      798\n",
      "16     5771      280      574\n",
      "17      141      128      183\n",
      "18      113       61       96\n",
      "19     5713        1      326\n",
      "20      159        1      283\n",
      "21       42      172      183\n",
      "22      230       51      183\n",
      "23     5733        1      329\n",
      "24       43        1      287\n",
      "25      270       70      183\n",
      "26       91        1      183\n",
      "27      219        2      183\n",
      "28      178        1      183\n",
      "29      272        2      183\n",
      "...     ...      ...      ...\n",
      "9858   9859        0        0\n",
      "9859   9860        0        0\n",
      "9860   9861        0        0\n",
      "9861   9862        0        0\n",
      "9862   9863        0        0\n",
      "9863   9864        0        0\n",
      "9864   9865        0        0\n",
      "9865   9866        0        0\n",
      "9866   9867        0        0\n",
      "9867   9868        0        0\n",
      "9868   9869        0        0\n",
      "9869   9870        0        0\n",
      "9870   9871        0        0\n",
      "9871   9872        0        0\n",
      "9872   9873        0        0\n",
      "9873   9874        0        0\n",
      "9874   9875        0        0\n",
      "9875   9876        0        0\n",
      "9876   9877        0        0\n",
      "9877   9878        0        0\n",
      "9878   9879        0        0\n",
      "9879   9880        0        0\n",
      "9880   9881        0        0\n",
      "9881   9882        0        0\n",
      "9882   9883        0        0\n",
      "9883   9884        0        0\n",
      "9884   9885        0        0\n",
      "9885   9886        0        0\n",
      "9886   9887        0        0\n",
      "9887   9888      267     1900\n",
      "\n",
      "[9888 rows x 3 columns]\n"
     ]
    }
   ],
   "source": [
    "## Probably not going to use this\n",
    "contin = pd.DataFrame( read_in_data( 'contin', [1, 8, 9] ), columns=['contin','section1','section2'] )\n",
    "print contin"
   ]
  },
  {
   "cell_type": "markdown",
   "metadata": {},
   "source": [
    "## Section Numbering\n",
    "I need to clarify how this is actually going to play out, but for now I'm using the img_num to define the Z coordinate of a synapse. It seems like there are three series types: NR = nerve ring, NC = neural cord, DC = dorsal commisure. From the wormwiring diagrams online it appears that NR comes before NC which comes before DC but the img number gets reset to 0 with each series change. I'm going to add 200 to the NC img numbers. Not sure what to do with DC yet so I'll leave them alone for now."
   ]
  },
  {
   "cell_type": "code",
   "execution_count": 6,
   "metadata": {},
   "outputs": [
    {
     "ename": "NameError",
     "evalue": "name 'syn' is not defined",
     "output_type": "error",
     "traceback": [
      "\u001b[0;31m---------------------------------------------------------------------------\u001b[0m",
      "\u001b[0;31mNameError\u001b[0m                                 Traceback (most recent call last)",
      "\u001b[0;32m<ipython-input-6-32364356f64b>\u001b[0m in \u001b[0;36m<module>\u001b[0;34m()\u001b[0m\n\u001b[0;32m----> 1\u001b[0;31m \u001b[0mfull_df\u001b[0m \u001b[0;34m=\u001b[0m \u001b[0mpd\u001b[0m\u001b[0;34m.\u001b[0m\u001b[0mmerge\u001b[0m\u001b[0;34m(\u001b[0m \u001b[0msyn\u001b[0m\u001b[0;34m,\u001b[0m \u001b[0mobj\u001b[0m\u001b[0;34m,\u001b[0m \u001b[0mon\u001b[0m\u001b[0;34m=\u001b[0m\u001b[0;34m'contin'\u001b[0m \u001b[0;34m)\u001b[0m\u001b[0;34m.\u001b[0m\u001b[0msort_values\u001b[0m\u001b[0;34m(\u001b[0m \u001b[0;34m'contin'\u001b[0m \u001b[0;34m)\u001b[0m\u001b[0;34m\u001b[0m\u001b[0m\n\u001b[0m\u001b[1;32m      2\u001b[0m \u001b[0mfull_df\u001b[0m \u001b[0;34m=\u001b[0m \u001b[0mfull_df\u001b[0m\u001b[0;34m[\u001b[0m \u001b[0mfull_df\u001b[0m\u001b[0;34m[\u001b[0m\u001b[0;34m'contin'\u001b[0m\u001b[0;34m]\u001b[0m \u001b[0;34m!=\u001b[0m \u001b[0;34m'0'\u001b[0m \u001b[0;34m]\u001b[0m\u001b[0;34m\u001b[0m\u001b[0m\n\u001b[1;32m      3\u001b[0m \u001b[0;31m## split img_num into series name and 'section'\u001b[0m\u001b[0;34m\u001b[0m\u001b[0;34m\u001b[0m\u001b[0m\n\u001b[1;32m      4\u001b[0m \u001b[0mseries\u001b[0m\u001b[0;34m,\u001b[0m \u001b[0msection\u001b[0m \u001b[0;34m=\u001b[0m \u001b[0;34m[\u001b[0m\u001b[0;34m]\u001b[0m\u001b[0;34m,\u001b[0m \u001b[0;34m[\u001b[0m\u001b[0;34m]\u001b[0m\u001b[0;34m\u001b[0m\u001b[0m\n\u001b[1;32m      5\u001b[0m \u001b[0;32mfor\u001b[0m \u001b[0mimg\u001b[0m \u001b[0;32min\u001b[0m \u001b[0mfull_df\u001b[0m\u001b[0;34m[\u001b[0m\u001b[0;34m[\u001b[0m\u001b[0;34m'img_num'\u001b[0m\u001b[0;34m]\u001b[0m\u001b[0;34m]\u001b[0m\u001b[0;34m.\u001b[0m\u001b[0mvalues\u001b[0m\u001b[0;34m:\u001b[0m\u001b[0;34m\u001b[0m\u001b[0m\n",
      "\u001b[0;31mNameError\u001b[0m: name 'syn' is not defined"
     ]
    }
   ],
   "source": [
    "full_df = pd.merge( syn, obj, on='contin' ).sort_values( 'contin' )\n",
    "full_df = full_df[ full_df['contin'] != '0' ]\n",
    "## split img_num into series name and 'section'\n",
    "series, section = [], []\n",
    "for img in full_df[['img_num']].values:\n",
    "    series_name, section_num = img[0][3:5], int( img[0][5:] )\n",
    "    ## Define the section number each series starts at here\n",
    "    if series_name == 'VC':\n",
    "        section.append( section_num + 200 ), series.append( series_name )\n",
    "    elif series_name == 'NR':\n",
    "        section.append( section_num ), series.append( series_name )\n",
    "    else:\n",
    "        section.append( section_num ), series.append( series_name )\n",
    "full_df['series'], full_df['section'] = series, section\n",
    "print full_df"
   ]
  },
  {
   "cell_type": "code",
   "execution_count": null,
   "metadata": {
    "collapsed": true
   },
   "outputs": [],
   "source": [
    "## convert img_num to section. Relationship stored in 'image' table\n",
    "print read_in_data( 'image', [0,1])"
   ]
  },
  {
   "cell_type": "code",
   "execution_count": null,
   "metadata": {},
   "outputs": [],
   "source": [
    "## Average coordinates between a contin\n",
    "averaged_con = []\n",
    "last, x_avg, y_avg, sec_avg = 0, None, None, None\n",
    "for row in full_df.values:\n",
    "    if int(row[3]) != last:\n",
    "        averaged_con.append( [row[0], row[1], row[2], row[7], last, x_avg, y_avg, sec_avg] )\n",
    "        last, x_avg, y_avg, sec_avg = int(row[3]), int(row[4]), int(row[5]), int(row[8])\n",
    "    else:\n",
    "        x_avg = np.mean( [x_avg, int(row[4])] )\n",
    "        y_avg = np.mean( [y_avg, int(row[5])] )\n",
    "        sec_avg = np.mean( [sec_avg, int(row[8])] )\n",
    "averaged_df = pd.DataFrame( averaged_con[1:], columns=['pre','post','type','series','contin','x','y','z'] )\n",
    "print averaged_df"
   ]
  },
  {
   "cell_type": "code",
   "execution_count": null,
   "metadata": {
    "collapsed": true
   },
   "outputs": [],
   "source": []
  },
  {
   "cell_type": "markdown",
   "metadata": {},
   "source": [
    "## Graphing"
   ]
  },
  {
   "cell_type": "code",
   "execution_count": null,
   "metadata": {},
   "outputs": [],
   "source": [
    "neuron = 'AVAR'\n",
    "averaged_df = averaged_df[ averaged_df['post'].str.contains( neuron ) ].append( \\\n",
    "            averaged_df[ averaged_df['pre'].str.contains( neuron ) ] )\\\n",
    "            [['pre', 'post', 'x', 'y', 'type', 'z', 'contin']]\n",
    "print np.shape( averaged_df )\n",
    "pre, post, x, y, z, typ = averaged_df['pre'].values, averaged_df['post'].values, averaged_df['x'].values, \\\n",
    "                     averaged_df['y'].values, averaged_df['z'].values, averaged_df['type'].values\n",
    "plt.figure(figsize=(20,5)) \n",
    "for i in range( len( pre ) ):\n",
    "    if typ[i] == 'electrical':\n",
    "        plt.plot(z[i], x[i], 'co')\n",
    "        if pre[i] == neuron:\n",
    "            plt.text(z[i], float(x[i]), post[i], fontsize=10, alpha=0.6)\n",
    "        else:\n",
    "            plt.text(z[i], float(x[i]), pre[i], fontsize=10, alpha=0.6)\n",
    "    elif pre[i] == neuron:\n",
    "        plt.plot(z[i], x[i], 'ro')\n",
    "        plt.text(z[i], float(x[i]), post[i], fontsize=10, alpha=0.6)\n",
    "    else:\n",
    "        plt.plot(z[i], x[i], 'mo')\n",
    "        plt.text(z[i], float(x[i]), pre[i], fontsize=10, alpha=0.6)\n",
    "plt.title( neuron ), plt.xlabel( 'section #' ), plt.ylabel( 'X');\n",
    "\n"
   ]
  },
  {
   "cell_type": "code",
   "execution_count": null,
   "metadata": {
    "collapsed": true
   },
   "outputs": [],
   "source": []
  }
 ],
 "metadata": {
  "kernelspec": {
   "display_name": "Python 2",
   "language": "python",
   "name": "python2"
  },
  "language_info": {
   "codemirror_mode": {
    "name": "ipython",
    "version": 2
   },
   "file_extension": ".py",
   "mimetype": "text/x-python",
   "name": "python",
   "nbconvert_exporter": "python",
   "pygments_lexer": "ipython2",
   "version": "2.7.14"
  }
 },
 "nbformat": 4,
 "nbformat_minor": 2
}
